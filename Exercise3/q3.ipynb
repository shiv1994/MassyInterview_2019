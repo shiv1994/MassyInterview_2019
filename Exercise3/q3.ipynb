{
 "cells": [
  {
   "cell_type": "code",
   "execution_count": 83,
   "metadata": {},
   "outputs": [],
   "source": [
    "import os\n",
    "import math\n",
    "import random\n",
    "import operator\n",
    "import numpy as np\n",
    "import pandas as pd\n",
    "\n",
    "import matplotlib\n",
    "import matplotlib.pyplot as plt\n",
    "\n",
    "from sklearn.model_selection import KFold\n",
    "from sklearn.preprocessing import LabelEncoder\n",
    "from sklearn.model_selection import train_test_split\n",
    "from operator import itemgetter"
   ]
  },
  {
   "cell_type": "code",
   "execution_count": 84,
   "metadata": {},
   "outputs": [],
   "source": [
    "current_dir = os.getcwd()\n",
    "df = pd.read_csv(current_dir + '/exercise2_data.csv', delimiter=\",\")"
   ]
  },
  {
   "cell_type": "code",
   "execution_count": 85,
   "metadata": {},
   "outputs": [
    {
     "data": {
      "text/html": [
       "<div>\n",
       "<style scoped>\n",
       "    .dataframe tbody tr th:only-of-type {\n",
       "        vertical-align: middle;\n",
       "    }\n",
       "\n",
       "    .dataframe tbody tr th {\n",
       "        vertical-align: top;\n",
       "    }\n",
       "\n",
       "    .dataframe thead th {\n",
       "        text-align: right;\n",
       "    }\n",
       "</style>\n",
       "<table border=\"1\" class=\"dataframe\">\n",
       "  <thead>\n",
       "    <tr style=\"text-align: right;\">\n",
       "      <th></th>\n",
       "      <th>account_no</th>\n",
       "      <th>gender</th>\n",
       "      <th>age</th>\n",
       "      <th>income</th>\n",
       "      <th>loan_amount</th>\n",
       "      <th>term</th>\n",
       "      <th>installment_amount</th>\n",
       "      <th>interest_rate</th>\n",
       "      <th>credit_score_at_application</th>\n",
       "      <th>outstanding_balance</th>\n",
       "      <th>status</th>\n",
       "    </tr>\n",
       "  </thead>\n",
       "  <tbody>\n",
       "    <tr>\n",
       "      <th>0</th>\n",
       "      <td>acc_00000316</td>\n",
       "      <td>F</td>\n",
       "      <td>18</td>\n",
       "      <td>12143</td>\n",
       "      <td>47000</td>\n",
       "      <td>60</td>\n",
       "      <td>1045</td>\n",
       "      <td>0.12</td>\n",
       "      <td>860</td>\n",
       "      <td>0</td>\n",
       "      <td>PAID_UP</td>\n",
       "    </tr>\n",
       "    <tr>\n",
       "      <th>1</th>\n",
       "      <td>acc_00000422</td>\n",
       "      <td>F</td>\n",
       "      <td>18</td>\n",
       "      <td>6021</td>\n",
       "      <td>13000</td>\n",
       "      <td>60</td>\n",
       "      <td>330</td>\n",
       "      <td>0.18</td>\n",
       "      <td>640</td>\n",
       "      <td>0</td>\n",
       "      <td>PAID_UP</td>\n",
       "    </tr>\n",
       "    <tr>\n",
       "      <th>2</th>\n",
       "      <td>acc_00001373</td>\n",
       "      <td>F</td>\n",
       "      <td>39</td>\n",
       "      <td>12832</td>\n",
       "      <td>13000</td>\n",
       "      <td>60</td>\n",
       "      <td>296</td>\n",
       "      <td>0.13</td>\n",
       "      <td>820</td>\n",
       "      <td>0</td>\n",
       "      <td>PAID_UP</td>\n",
       "    </tr>\n",
       "    <tr>\n",
       "      <th>3</th>\n",
       "      <td>acc_00001686</td>\n",
       "      <td>F</td>\n",
       "      <td>33</td>\n",
       "      <td>4867</td>\n",
       "      <td>5000</td>\n",
       "      <td>36</td>\n",
       "      <td>191</td>\n",
       "      <td>0.22</td>\n",
       "      <td>540</td>\n",
       "      <td>0</td>\n",
       "      <td>PAID_UP</td>\n",
       "    </tr>\n",
       "    <tr>\n",
       "      <th>4</th>\n",
       "      <td>acc_00001733</td>\n",
       "      <td>F</td>\n",
       "      <td>23</td>\n",
       "      <td>5107</td>\n",
       "      <td>22000</td>\n",
       "      <td>36</td>\n",
       "      <td>818</td>\n",
       "      <td>0.20</td>\n",
       "      <td>580</td>\n",
       "      <td>11314</td>\n",
       "      <td>LIVE</td>\n",
       "    </tr>\n",
       "    <tr>\n",
       "      <th>5</th>\n",
       "      <td>acc_00002114</td>\n",
       "      <td>M</td>\n",
       "      <td>38</td>\n",
       "      <td>9328</td>\n",
       "      <td>25000</td>\n",
       "      <td>36</td>\n",
       "      <td>904</td>\n",
       "      <td>0.18</td>\n",
       "      <td>630</td>\n",
       "      <td>0</td>\n",
       "      <td>PAID_UP</td>\n",
       "    </tr>\n",
       "    <tr>\n",
       "      <th>6</th>\n",
       "      <td>acc_00002270</td>\n",
       "      <td>F</td>\n",
       "      <td>18</td>\n",
       "      <td>5763</td>\n",
       "      <td>15000</td>\n",
       "      <td>60</td>\n",
       "      <td>381</td>\n",
       "      <td>0.18</td>\n",
       "      <td>630</td>\n",
       "      <td>0</td>\n",
       "      <td>PAID_UP</td>\n",
       "    </tr>\n",
       "    <tr>\n",
       "      <th>7</th>\n",
       "      <td>acc_00002927</td>\n",
       "      <td>M</td>\n",
       "      <td>42</td>\n",
       "      <td>12762</td>\n",
       "      <td>24000</td>\n",
       "      <td>48</td>\n",
       "      <td>668</td>\n",
       "      <td>0.15</td>\n",
       "      <td>730</td>\n",
       "      <td>0</td>\n",
       "      <td>PAID_UP</td>\n",
       "    </tr>\n",
       "    <tr>\n",
       "      <th>8</th>\n",
       "      <td>acc_00003222</td>\n",
       "      <td>M</td>\n",
       "      <td>43</td>\n",
       "      <td>6718</td>\n",
       "      <td>16000</td>\n",
       "      <td>48</td>\n",
       "      <td>522</td>\n",
       "      <td>0.24</td>\n",
       "      <td>520</td>\n",
       "      <td>2923</td>\n",
       "      <td>DEFAULT</td>\n",
       "    </tr>\n",
       "    <tr>\n",
       "      <th>9</th>\n",
       "      <td>acc_00006967</td>\n",
       "      <td>F</td>\n",
       "      <td>38</td>\n",
       "      <td>9662</td>\n",
       "      <td>17000</td>\n",
       "      <td>48</td>\n",
       "      <td>482</td>\n",
       "      <td>0.16</td>\n",
       "      <td>720</td>\n",
       "      <td>0</td>\n",
       "      <td>PAID_UP</td>\n",
       "    </tr>\n",
       "  </tbody>\n",
       "</table>\n",
       "</div>"
      ],
      "text/plain": [
       "     account_no gender  age  income  loan_amount  term  installment_amount  \\\n",
       "0  acc_00000316      F   18   12143        47000    60                1045   \n",
       "1  acc_00000422      F   18    6021        13000    60                 330   \n",
       "2  acc_00001373      F   39   12832        13000    60                 296   \n",
       "3  acc_00001686      F   33    4867         5000    36                 191   \n",
       "4  acc_00001733      F   23    5107        22000    36                 818   \n",
       "5  acc_00002114      M   38    9328        25000    36                 904   \n",
       "6  acc_00002270      F   18    5763        15000    60                 381   \n",
       "7  acc_00002927      M   42   12762        24000    48                 668   \n",
       "8  acc_00003222      M   43    6718        16000    48                 522   \n",
       "9  acc_00006967      F   38    9662        17000    48                 482   \n",
       "\n",
       "   interest_rate  credit_score_at_application  outstanding_balance   status  \n",
       "0           0.12                          860                    0  PAID_UP  \n",
       "1           0.18                          640                    0  PAID_UP  \n",
       "2           0.13                          820                    0  PAID_UP  \n",
       "3           0.22                          540                    0  PAID_UP  \n",
       "4           0.20                          580                11314     LIVE  \n",
       "5           0.18                          630                    0  PAID_UP  \n",
       "6           0.18                          630                    0  PAID_UP  \n",
       "7           0.15                          730                    0  PAID_UP  \n",
       "8           0.24                          520                 2923  DEFAULT  \n",
       "9           0.16                          720                    0  PAID_UP  "
      ]
     },
     "execution_count": 85,
     "metadata": {},
     "output_type": "execute_result"
    }
   ],
   "source": [
    "df.head(5)"
   ]
  },
  {
   "cell_type": "code",
   "execution_count": 86,
   "metadata": {},
   "outputs": [
    {
     "data": {
      "image/png": "[encoded data removed]",
      "text/plain": [
       "<Figure size 432x288 with 1 Axes>"
      ]
     },
     "metadata": {
      "needs_background": "light"
     },
     "output_type": "display_data"
    }
   ],
   "source": [
    "x = ['Paid', 'Default']\n",
    "count = [len(df.query('status == \"PAID_UP\"')), len(df.query('status == \"DEFAULT\"'))]\n",
    "x_pos = [i for i, _ in enumerate(x)]\n",
    "plt.bar(x_pos, count, color='green')\n",
    "plt.xlabel(\"Outcome\")\n",
    "plt.ylabel(\"Number\")\n",
    "plt.title(\"Occurrence of Each Outcome in the Dataset\")\n",
    "plt.xticks(x_pos, x)\n",
    "plt.show()"
   ]
  },
  {
   "cell_type": "markdown",
   "metadata": {},
   "source": [
    "The dataset is highly imblanced.\n",
    "Learning on this would be difficult since the model would be biased to the majority class (persons who paid out their loan)."
   ]
  },
  {
   "cell_type": "code",
   "execution_count": 87,
   "metadata": {},
   "outputs": [
    {
     "name": "stdout",
     "output_type": "stream",
     "text": [
      "['F', 'M']\n"
     ]
    }
   ],
   "source": [
    "# Encoding the values of the gender column.\n",
    "le = LabelEncoder()\n",
    "le.fit(df.gender.unique())\n",
    "print(list(le.classes_))\n",
    "df.gender = le.transform(df.gender)"
   ]
  },
  {
   "cell_type": "code",
   "execution_count": 112,
   "metadata": {},
   "outputs": [
    {
     "name": "stdout",
     "output_type": "stream",
     "text": [
      "(9997, 11)\n",
      "(2001, 8)\n"
     ]
    }
   ],
   "source": [
    "# For simplicity, replace all occurrences of the target variable with either: y - defaulted, n - did not default.\n",
    "df = df.replace({'status': {'PAID_UP': 'n', 'DEFAULT': 'y'}})\n",
    "# Seprate dataset into training set and live testing set.\n",
    "df_filtered_hist = df.query('(status == \"n\" | status == \"y\")')\n",
    "df_filtered_live_old = df.query('(status == \"LIVE\")')\n",
    "df_filtered_live_y = df_filtered_live_old.status\n",
    "df_filtered_live = df_filtered_live_old.drop(columns = ['account_no', 'outstanding_balance', 'status'])\n",
    "print(df_filtered_hist.shape)\n",
    "print(df_filtered_live.shape)"
   ]
  },
  {
   "cell_type": "code",
   "execution_count": 89,
   "metadata": {},
   "outputs": [
    {
     "name": "stdout",
     "output_type": "stream",
     "text": [
      "n\n",
      "0\n"
     ]
    }
   ],
   "source": [
    "# Before we begin training of the model, we need to remove some unwanted columns.\n",
    "x = df_filtered_hist.drop(columns = ['account_no', 'outstanding_balance', 'status'])\n",
    "# x = x.drop(columns = ['gender', 'loan_amount', 'term', 'installment_amount'])\n",
    "y = df_filtered_hist.status\n",
    "print(y[100])\n",
    "le = LabelEncoder()\n",
    "le.fit(y.unique())\n",
    "y = le.transform(y)\n",
    "print(y[100])\n",
    "x_train, x_test, y_train, y_test = train_test_split(x, y, test_size=0.2, shuffle=True)"
   ]
  },
  {
   "cell_type": "code",
   "execution_count": 134,
   "metadata": {},
   "outputs": [
    {
     "name": "stdout",
     "output_type": "stream",
     "text": [
      "0.971\n",
      "0.7716535433070866\n",
      "0.9890765620163695\n",
      "[[1844   19]\n",
      " [  39   98]]\n"
     ]
    }
   ],
   "source": [
    "from sklearn.linear_model import LogisticRegression\n",
    "from sklearn.metrics import f1_score, roc_auc_score, confusion_matrix, accuracy_score, recall_score\n",
    "\n",
    "logisticRegr = LogisticRegression(penalty='l1', tol= 1e-5, solver='liblinear')\n",
    "logisticRegr.fit(x_train, y_train)\n",
    "pred = logisticRegr.predict(x_test)\n",
    "pred_prob = logisticRegr.predict_proba(x_test)\n",
    "print(logisticRegr.score(x_test, y_test))\n",
    "print(f1_score(y_test, pred))\n",
    "print(roc_auc_score(y_test, pred_prob[:,1]))\n",
    "print(confusion_matrix(y_test, pred))"
   ]
  },
  {
   "cell_type": "markdown",
   "metadata": {},
   "source": [
    "The mean accuracy reveals that the model is working almost perfect.\n",
    "However, this is contradicted by the F1 and AUC scores as well as the confusion matrix.\n",
    "The ROC metric would appear to be good but the bias in the dataset falisfies this.\n",
    "We have the options of using either undersampling or oversampling techniques.\n",
    "Both techniques have drawbacks so we resort to using a new classifier.\n",
    "Our new choice is the decision tree."
   ]
  },
  {
   "cell_type": "code",
   "execution_count": 138,
   "metadata": {},
   "outputs": [
    {
     "name": "stdout",
     "output_type": "stream",
     "text": [
      "0.984\n",
      "0.8778625954198473\n",
      "0.9831231315945164\n",
      "[[1853   10]\n",
      " [  22  115]]\n"
     ]
    }
   ],
   "source": [
    "from sklearn.ensemble import RandomForestClassifier\n",
    "\n",
    "rfc = RandomForestClassifier(n_estimators=10).fit(x_train, y_train)\n",
    "\n",
    "# predict on test set\n",
    "rfc_pred = rfc.predict(x_test)\n",
    "rfc_pred_prob = rfc.predict_proba(x_test)\n",
    "\n",
    "print(accuracy_score(y_test, rfc_pred))\n",
    "print(f1_score(y_test, rfc_pred))\n",
    "print(roc_auc_score(y_test, rfc_pred_prob[:,1]))\n",
    "print(confusion_matrix(y_test, rfc_pred))"
   ]
  },
  {
   "cell_type": "markdown",
   "metadata": {},
   "source": [
    "Results reveal that the decision tree handles the bias better than Logistic Regression.\n",
    "We can now use this on the dataset we are required to do predictions on.\n",
    "We have 87% accuracy."
   ]
  },
  {
   "cell_type": "code",
   "execution_count": 139,
   "metadata": {},
   "outputs": [],
   "source": [
    "rfc_prob = rfc.predict_proba(df_filtered_live)"
   ]
  },
  {
   "cell_type": "code",
   "execution_count": 147,
   "metadata": {},
   "outputs": [
    {
     "name": "stdout",
     "output_type": "stream",
     "text": [
      "2001\n",
      "23801278.599999994\n"
     ]
    }
   ],
   "source": [
    "sum_expected = 0.0\n",
    "index = 0\n",
    "for i in range(0, len(rfc_prob)):\n",
    "    sum_expected += (rfc_prob[i,0]) * df_filtered_live_old.iloc[i].outstanding_balance\n",
    "print(sum_expected)"
   ]
  }
 ],
 "metadata": {
  "kernelspec": {
   "display_name": "Python 3",
   "language": "python",
   "name": "python3"
  },
  "language_info": {
   "codemirror_mode": {
    "name": "ipython",
    "version": 3
   },
   "file_extension": ".py",
   "mimetype": "text/x-python",
   "name": "python",
   "nbconvert_exporter": "python",
   "pygments_lexer": "ipython3",
   "version": "3.7.5"
  }
 },
 "nbformat": 4,
 "nbformat_minor": 2
}
